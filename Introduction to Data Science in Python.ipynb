{
 "cells": [
  {
   "cell_type": "markdown",
   "metadata": {},
   "source": [
    "# Week 1 of the DOST-PCIEERD Data Science Extension Track"
   ]
  },
  {
   "cell_type": "markdown",
   "metadata": {},
   "source": [
    "Introduction to Specialization"
   ]
  },
  {
   "cell_type": "markdown",
   "metadata": {},
   "source": [
    "Data Science by Drew Conway\n",
    "- Hacking Skills\n",
    "- Math and Statistics Knowledge\n",
    "- Substantive Expertise"
   ]
  },
  {
   "cell_type": "markdown",
   "metadata": {},
   "source": [
    "Other data science perspectives:\n",
    "- Skepticism, experimentation, simulation and replication"
   ]
  },
  {
   "cell_type": "markdown",
   "metadata": {},
   "source": [
    "**50 years of data science by David Donoho**\n",
    "Data Science Steps\n",
    "1. Data Exploration and Preparation\n",
    "2. Data Representation and Transformation\n",
    "3. Computing with Data\n",
    "4. Data Modeling\n",
    "5. Data Visualization and Presentation\n",
    "6. Science about Data Science"
   ]
  }
 ],
 "metadata": {
  "kernelspec": {
   "display_name": "Python 3",
   "language": "python",
   "name": "python3"
  },
  "language_info": {
   "codemirror_mode": {
    "name": "ipython",
    "version": 3
   },
   "file_extension": ".py",
   "mimetype": "text/x-python",
   "name": "python",
   "nbconvert_exporter": "python",
   "pygments_lexer": "ipython3",
   "version": "3.6.3"
  }
 },
 "nbformat": 4,
 "nbformat_minor": 2
}
