{
 "cells": [
  {
   "cell_type": "markdown",
   "metadata": {},
   "source": [
    "** What is Web Scraping? **\n",
    "* When a program or script pretends to be a browser and retrieves web pages, looks at those web pages, extract information and then looks at more web pages\n",
    "* Search engines scrape web pages - we call this **\"spidering the web\"** or ** \"web crawling\" **"
   ]
  },
  {
   "cell_type": "markdown",
   "metadata": {},
   "source": [
    "** Why Scrape? **\n",
    "* ** Pull data ** - particularly social data - who links to who?\n",
    "* Get your own data back out of some system that has no \"export capability\"\n",
    "* Monitor a site for new information\n",
    "* Spider the web to make a database for a search engine"
   ]
  },
  {
   "cell_type": "markdown",
   "metadata": {},
   "source": [
    "** Scraping Web Pages **\n",
    "* There is some controversy about web page scraping and some sites are a bit snippy about it.\n",
    "* Republishing copyrighted information is not allowed.\n",
    "* Violating terms of service is not allowed."
   ]
  },
  {
   "cell_type": "markdown",
   "metadata": {},
   "source": [
    "** The Easy Way - BeautifulSoup **\n",
    "* You could do string searches the hard way\n",
    "* Or use the free software library called ** BeautifulSoup ** from www.crummy.com"
   ]
  },
  {
   "cell_type": "code",
   "execution_count": 2,
   "metadata": {},
   "outputs": [
    {
     "name": "stdout",
     "output_type": "stream",
     "text": [
      "http://www.dr-chuck.com/page2.htm\n"
     ]
    }
   ],
   "source": [
    "import urllib.request, urllib.parse, urllib.error\n",
    "from bs4 import BeautifulSoup\n",
    "\n",
    "url = \"http://www.dr-chuck.com/page1.htm\"\n",
    "html = urllib.request.urlopen(url).read()\n",
    "soup = BeautifulSoup(html, \"html.parser\")\n",
    "\n",
    "#retrieve all of anchor tags\n",
    "tags = soup('a')\n",
    "for tag in tags:\n",
    "    print(tag.get('href', None))"
   ]
  },
  {
   "cell_type": "markdown",
   "metadata": {},
   "source": [
    "## Summary "
   ]
  },
  {
   "cell_type": "markdown",
   "metadata": {},
   "source": [
    "* The TCP/IP gives us pipes/sockets between applications\n",
    "* We designed application protocols to make use of these pipes\n",
    "* HyperText Transfer Protocol (HTTP) is a simple yet powerful protocol\n",
    "* Python has good support for sockets, HTTP, and HTML parsing"
   ]
  }
 ],
 "metadata": {
  "kernelspec": {
   "display_name": "Python 3",
   "language": "python",
   "name": "python3"
  },
  "language_info": {
   "codemirror_mode": {
    "name": "ipython",
    "version": 3
   },
   "file_extension": ".py",
   "mimetype": "text/x-python",
   "name": "python",
   "nbconvert_exporter": "python",
   "pygments_lexer": "ipython3",
   "version": "3.6.2"
  }
 },
 "nbformat": 4,
 "nbformat_minor": 2
}
