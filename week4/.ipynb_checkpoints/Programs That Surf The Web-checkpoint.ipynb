{
 "cells": [
  {
   "cell_type": "markdown",
   "metadata": {},
   "source": [
    "## ENCODINGS"
   ]
  },
  {
   "cell_type": "markdown",
   "metadata": {},
   "source": [
    "ASCII - American Standard Code for Information Interchange"
   ]
  },
  {
   "cell_type": "markdown",
   "metadata": {},
   "source": [
    "** Representing Simple Strings **"
   ]
  },
  {
   "cell_type": "code",
   "execution_count": 2,
   "metadata": {},
   "outputs": [
    {
     "name": "stdout",
     "output_type": "stream",
     "text": [
      "72\n"
     ]
    }
   ],
   "source": [
    "print(ord(\"H\"))"
   ]
  },
  {
   "cell_type": "code",
   "execution_count": 3,
   "metadata": {},
   "outputs": [
    {
     "name": "stdout",
     "output_type": "stream",
     "text": [
      "101\n"
     ]
    }
   ],
   "source": [
    "print(ord(\"e\"))"
   ]
  },
  {
   "cell_type": "code",
   "execution_count": 4,
   "metadata": {},
   "outputs": [
    {
     "name": "stdout",
     "output_type": "stream",
     "text": [
      "10\n"
     ]
    }
   ],
   "source": [
    "print(ord(\"\\n\"))"
   ]
  },
  {
   "cell_type": "markdown",
   "metadata": {},
   "source": [
    "1. Each character represented by a number between 0 and 256 stored in 8 bits of memory\n",
    "2. We refer \"8 bits of memory as a \"byte\" of memory - (i.e my disk drive contains 3 Tera**bytes** of memory)\n",
    "3. The ord() function tells us the numeric value of a simple ASCII character"
   ]
  },
  {
   "cell_type": "markdown",
   "metadata": {},
   "source": [
    "** Multi-Byte Characters **\n",
    "* To represent the wide range of characters computers must handle we represent characters with more than one byte\n",
    "1. UTF-16 - Fixed Length - Two bytes\n",
    "2. UTF-32 - Fixed Length - Four bytes\n",
    "3. UTF-8 - 1-4 bytes\n",
    "    * Upwards compatible with ASCII\n",
    "    * Automatic detection between ASCII and UTF-8\n",
    "    * UTF-8 is recommended practice for encoding data to be exchanged between systems"
   ]
  },
  {
   "cell_type": "markdown",
   "metadata": {},
   "source": [
    "## Two kinds of Strings in Python"
   ]
  },
  {
   "cell_type": "markdown",
   "metadata": {},
   "source": [
    "Python 2.7\n",
    "* x= \"漢字\"\n",
    "* type(x)\n",
    "* type 'str'\n",
    "* x= u\"漢字\"\n",
    "* type(x)\n",
    "* type 'unicode'"
   ]
  },
  {
   "cell_type": "code",
   "execution_count": 5,
   "metadata": {},
   "outputs": [
    {
     "data": {
      "text/plain": [
       "str"
      ]
     },
     "execution_count": 5,
     "metadata": {},
     "output_type": "execute_result"
    }
   ],
   "source": [
    "#Python 3\n",
    "x = \"漢字\"\n",
    "type(x)"
   ]
  },
  {
   "cell_type": "code",
   "execution_count": 6,
   "metadata": {},
   "outputs": [
    {
     "data": {
      "text/plain": [
       "str"
      ]
     },
     "execution_count": 6,
     "metadata": {},
     "output_type": "execute_result"
    }
   ],
   "source": [
    "x = u\"漢字\"\n",
    "type(x)"
   ]
  },
  {
   "cell_type": "markdown",
   "metadata": {},
   "source": [
    "** In Python 3, all strings are Unicode **"
   ]
  },
  {
   "cell_type": "markdown",
   "metadata": {},
   "source": [
    "Python 2 vs Python 3"
   ]
  },
  {
   "cell_type": "markdown",
   "metadata": {},
   "source": [
    "Python 2\n",
    "* x = b\"abc\"\n",
    "* type(x)\n",
    "* type \"str\"\n",
    "* x = \"漢字\"\n",
    "* type(x)\n",
    "* type \"str\"\n",
    "* x = u\"漢字\"\n",
    "* type(x)\n",
    "* type \"unicode\""
   ]
  },
  {
   "cell_type": "code",
   "execution_count": 7,
   "metadata": {},
   "outputs": [
    {
     "data": {
      "text/plain": [
       "bytes"
      ]
     },
     "execution_count": 7,
     "metadata": {},
     "output_type": "execute_result"
    }
   ],
   "source": [
    "#Python 3\n",
    "x = b\"abc\"\n",
    "type(x)"
   ]
  },
  {
   "cell_type": "code",
   "execution_count": 8,
   "metadata": {},
   "outputs": [
    {
     "data": {
      "text/plain": [
       "str"
      ]
     },
     "execution_count": 8,
     "metadata": {},
     "output_type": "execute_result"
    }
   ],
   "source": [
    "x = \"漢字\"\n",
    "type(x)"
   ]
  },
  {
   "cell_type": "code",
   "execution_count": 9,
   "metadata": {},
   "outputs": [
    {
     "data": {
      "text/plain": [
       "str"
      ]
     },
     "execution_count": 9,
     "metadata": {},
     "output_type": "execute_result"
    }
   ],
   "source": [
    "x = u\"漢字\"\n",
    "type(x)"
   ]
  },
  {
   "cell_type": "markdown",
   "metadata": {},
   "source": [
    "In Python 3, all strings internally are ** UNICODE **\n",
    "* Working with string variables in Python programs and reading data from files usually \"just works\"\n",
    "* When we talk to a network resource using sockets or talk to a database we have to encode anddecode data (usually to UTF-8)"
   ]
  },
  {
   "cell_type": "markdown",
   "metadata": {},
   "source": [
    "** Python Strings to Bytes **\n",
    "* When we talk to an external resource like a network socket we send bytes, so wee need to encode Python 3 strings into a given character encoding.\n",
    "* When we read data from an external source, we must decode it based on the character set so it is properly represented in Python 3 as a string.\n",
    "* **.encode() ** - to bytes\n",
    "* **.decode()** - to strings"
   ]
  },
  {
   "cell_type": "markdown",
   "metadata": {},
   "source": [
    "** FLOW **\n",
    "* String Unicode > encode > Bytes > send > Socket > receive > Bytes > Decode > String Unicode"
   ]
  }
 ],
 "metadata": {
  "kernelspec": {
   "display_name": "Python 3",
   "language": "python",
   "name": "python3"
  },
  "language_info": {
   "codemirror_mode": {
    "name": "ipython",
    "version": 3
   },
   "file_extension": ".py",
   "mimetype": "text/x-python",
   "name": "python",
   "nbconvert_exporter": "python",
   "pygments_lexer": "ipython3",
   "version": "3.6.2"
  }
 },
 "nbformat": 4,
 "nbformat_minor": 2
}
