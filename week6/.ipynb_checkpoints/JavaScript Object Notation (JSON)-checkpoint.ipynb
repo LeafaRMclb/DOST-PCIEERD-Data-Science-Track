{
 "cells": [
  {
   "cell_type": "markdown",
   "metadata": {},
   "source": [
    "** Douglas Crockford ** - Discovered JSON\n",
    "* Object literal notation in JavaScript"
   ]
  },
  {
   "cell_type": "markdown",
   "metadata": {},
   "source": [
    "** Roy Fielding ** - Accredited for REST (Representational State Transfer)"
   ]
  },
  {
   "cell_type": "markdown",
   "metadata": {},
   "source": [
    "## SERVICE ORIENTED APPROACH ##"
   ]
  },
  {
   "cell_type": "markdown",
   "metadata": {},
   "source": [
    "* most non-trivial web applications use services\n",
    "* They use services from other applications\n",
    "    1. Credit Card Charge\n",
    "    2. Hotel Reservation Systems\n",
    "* Services publish the \"rules\" applications must follow to make use of the service (API)"
   ]
  },
  {
   "cell_type": "markdown",
   "metadata": {},
   "source": [
    "** Multiple Systems **\n",
    "* initially - two systems cooperate and split the problem\n",
    "* as the data/services becomes useful - multiple applications want to use the information/application"
   ]
  },
  {
   "cell_type": "markdown",
   "metadata": {},
   "source": [
    "## Using Application Programming Interfaces (API) ##\n",
    "\n",
    "Google Geocoding API"
   ]
  },
  {
   "cell_type": "code",
   "execution_count": 1,
   "metadata": {},
   "outputs": [
    {
     "name": "stdout",
     "output_type": "stream",
     "text": [
      "Enter location: Ann Arbor, MI\n",
      "Retrieving http://maps.googleapis.com/maps/api/geocode/json?address=Ann+Arbor%2C+MI\n",
      "Retrieved 1736 characters\n",
      "{\n",
      "    \"results\": [\n",
      "        {\n",
      "            \"address_components\": [\n",
      "                {\n",
      "                    \"long_name\": \"Ann Arbor\",\n",
      "                    \"short_name\": \"Ann Arbor\",\n",
      "                    \"types\": [\n",
      "                        \"locality\",\n",
      "                        \"political\"\n",
      "                    ]\n",
      "                },\n",
      "                {\n",
      "                    \"long_name\": \"Washtenaw County\",\n",
      "                    \"short_name\": \"Washtenaw County\",\n",
      "                    \"types\": [\n",
      "                        \"administrative_area_level_2\",\n",
      "                        \"political\"\n",
      "                    ]\n",
      "                },\n",
      "                {\n",
      "                    \"long_name\": \"Michigan\",\n",
      "                    \"short_name\": \"MI\",\n",
      "                    \"types\": [\n",
      "                        \"administrative_area_level_1\",\n",
      "                        \"political\"\n",
      "                    ]\n",
      "                },\n",
      "                {\n",
      "                    \"long_name\": \"United States\",\n",
      "                    \"short_name\": \"US\",\n",
      "                    \"types\": [\n",
      "                        \"country\",\n",
      "                        \"political\"\n",
      "                    ]\n",
      "                }\n",
      "            ],\n",
      "            \"formatted_address\": \"Ann Arbor, MI, USA\",\n",
      "            \"geometry\": {\n",
      "                \"bounds\": {\n",
      "                    \"northeast\": {\n",
      "                        \"lat\": 42.3239728,\n",
      "                        \"lng\": -83.6758069\n",
      "                    },\n",
      "                    \"southwest\": {\n",
      "                        \"lat\": 42.222668,\n",
      "                        \"lng\": -83.799572\n",
      "                    }\n",
      "                },\n",
      "                \"location\": {\n",
      "                    \"lat\": 42.2808256,\n",
      "                    \"lng\": -83.7430378\n",
      "                },\n",
      "                \"location_type\": \"APPROXIMATE\",\n",
      "                \"viewport\": {\n",
      "                    \"northeast\": {\n",
      "                        \"lat\": 42.3239728,\n",
      "                        \"lng\": -83.6758069\n",
      "                    },\n",
      "                    \"southwest\": {\n",
      "                        \"lat\": 42.222668,\n",
      "                        \"lng\": -83.799572\n",
      "                    }\n",
      "                }\n",
      "            },\n",
      "            \"place_id\": \"ChIJMx9D1A2wPIgR4rXIhkb5Cds\",\n",
      "            \"types\": [\n",
      "                \"locality\",\n",
      "                \"political\"\n",
      "            ]\n",
      "        }\n",
      "    ],\n",
      "    \"status\": \"OK\"\n",
      "}\n",
      "lat 42.2808256 lng -83.7430378\n",
      "Ann Arbor, MI, USA\n",
      "Enter location: \n"
     ]
    }
   ],
   "source": [
    "import urllib.request, urllib.parse, urllib.error\n",
    "import json\n",
    "\n",
    "# Note that Google is increasingly requiring keys\n",
    "# for this API\n",
    "serviceurl = 'http://maps.googleapis.com/maps/api/geocode/json?'\n",
    "\n",
    "while True:\n",
    "    address = input('Enter location: ')\n",
    "    if len(address) < 1: break\n",
    "\n",
    "    url = serviceurl + urllib.parse.urlencode(\n",
    "        {'address': address})\n",
    "\n",
    "    print('Retrieving', url)\n",
    "    uh = urllib.request.urlopen(url)\n",
    "    data = uh.read().decode()\n",
    "    print('Retrieved', len(data), 'characters')\n",
    "\n",
    "    try:\n",
    "        js = json.loads(data)\n",
    "    except:\n",
    "        js = None\n",
    "\n",
    "    if not js or 'status' not in js or js['status'] != 'OK':\n",
    "        print('==== Failure To Retrieve ====')\n",
    "        print(data)\n",
    "        continue\n",
    "\n",
    "    print(json.dumps(js, indent=4))\n",
    "\n",
    "    lat = js[\"results\"][0][\"geometry\"][\"location\"][\"lat\"]\n",
    "    lng = js[\"results\"][0][\"geometry\"][\"location\"][\"lng\"]\n",
    "    print('lat', lat, 'lng', lng)\n",
    "    location = js['results'][0]['formatted_address']\n",
    "    print(location)\n"
   ]
  },
  {
   "cell_type": "markdown",
   "metadata": {},
   "source": [
    "## Securing API Requests ##"
   ]
  },
  {
   "cell_type": "markdown",
   "metadata": {},
   "source": [
    "API Security and Rate Limiting\n",
    "* The compute resources to run these APIs are not \"free\"\n",
    "* The data provided by these APIs is usually valuable\n",
    "* The data providers might limit the number of requests per day, demand an API \"key\", or even charge for usage.\n",
    "* They might change the rules as things progress."
   ]
  },
  {
   "cell_type": "markdown",
   "metadata": {},
   "source": []
  }
 ],
 "metadata": {
  "kernelspec": {
   "display_name": "Python 3",
   "language": "python",
   "name": "python3"
  },
  "language_info": {
   "codemirror_mode": {
    "name": "ipython",
    "version": 3
   },
   "file_extension": ".py",
   "mimetype": "text/x-python",
   "name": "python",
   "nbconvert_exporter": "python",
   "pygments_lexer": "ipython3",
   "version": "3.6.2"
  }
 },
 "nbformat": 4,
 "nbformat_minor": 2
}
