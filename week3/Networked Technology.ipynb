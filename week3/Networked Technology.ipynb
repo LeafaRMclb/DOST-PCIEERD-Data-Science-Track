{
 "cells": [
  {
   "cell_type": "markdown",
   "metadata": {},
   "source": [
    "## Transport Control Protocol ##"
   ]
  },
  {
   "cell_type": "markdown",
   "metadata": {},
   "source": [
    "* Built on top of IP (Internet Protocol)\n",
    "* Assumes IP might lose some data - stores and retransmits data if it seems to be lost.\n",
    "* Handles \"Flow Control\" using a transmit window\n",
    "* Provides a nice reliable Pipe"
   ]
  },
  {
   "cell_type": "markdown",
   "metadata": {},
   "source": [
    "## TCP Connections/ SOCKETS ##"
   ]
  },
  {
   "cell_type": "markdown",
   "metadata": {},
   "source": [
    "* In computer networking, an Internet socket or network socket is an endpoint of a bidirectional inter-process communication flow across an Internet Protocol-based computer network, such as the Internet.\n",
    "\n",
    "## PROCESS <- INTERNET -> PROCESS ##"
   ]
  },
  {
   "cell_type": "markdown",
   "metadata": {},
   "source": [
    "## TCP Port Numbers ##\n",
    "* A port is an application specific or process-specific software communication endpoint\n",
    "* It allows multiple networked applications to coexist on the same server\n",
    "* There is a list of well-known TCP port numbers\n",
    "* Port 80 is the common web server (HTTP) 443 for HTTPS\n",
    "* :8080 sometimes is the port"
   ]
  },
  {
   "cell_type": "markdown",
   "metadata": {},
   "source": [
    "## SOCKETS IN PYTHON##\n",
    "Python has built-in support for TCP Sockets"
   ]
  },
  {
   "cell_type": "code",
   "execution_count": 1,
   "metadata": {
    "collapsed": true
   },
   "outputs": [],
   "source": [
    "import socket\n",
    "mysock = socket.socket(socket.AF_INET, socket.SOCK_STREAM)\n",
    "mysock.connect((\"data.pr4e.org\", 80))"
   ]
  }
 ],
 "metadata": {
  "kernelspec": {
   "display_name": "Python 3",
   "language": "python",
   "name": "python3"
  },
  "language_info": {
   "codemirror_mode": {
    "name": "ipython",
    "version": 3
   },
   "file_extension": ".py",
   "mimetype": "text/x-python",
   "name": "python",
   "nbconvert_exporter": "python",
   "pygments_lexer": "ipython3",
   "version": "3.6.2"
  }
 },
 "nbformat": 4,
 "nbformat_minor": 2
}
